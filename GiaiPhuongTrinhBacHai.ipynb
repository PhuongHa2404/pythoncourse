{
 "cells": [
  {
   "cell_type": "code",
   "execution_count": 17,
   "id": "c018caec",
   "metadata": {},
   "outputs": [
    {
     "name": "stdout",
     "output_type": "stream",
     "text": [
      "nhập a: 1\n",
      "nhập b: 4\n",
      "nhập c: 2\n",
      "phương trình có nghiệm x1 = -0.5857864376269049\n",
      "phương trình có nghiệm x2 = -3.414213562373095\n"
     ]
    }
   ],
   "source": [
    "import math\n",
    "a = float(input(\"nhập a: \"))\n",
    "b = float(input(\"nhập b: \"))\n",
    "c = float(input(\"nhập c: \"))\n",
    "#ax2 + bx + c = 0\n",
    "if a == 0:\n",
    "     #PT VÔ SỐ NGHIỆM nếu b = 0\n",
    "    if b == 0:\n",
    "        print(\"phương trình có vô số nghiệm\")\n",
    "    else:\n",
    "        print(\"phương trình có 1 nghiệm x =\", -c/b)\n",
    "else:\n",
    "    d =b**2 - 4*a*c\n",
    "    if d < 0:\n",
    "        print(\"phương trình vô nghiệm\")\n",
    "    elif d == 0:\n",
    "        print(\"phương trình có nghiệm x1 = x2 =\", -b/ (2*a))\n",
    "    else:\n",
    "        print(\"phương trình có nghiệm x1 =\",(-b + math.sqrt(d))/(2*a))\n",
    "        print(\"phương trình có nghiệm x2 =\",(-b - math.sqrt(d))/(2*a))"
   ]
  },
  {
   "cell_type": "code",
   "execution_count": null,
   "id": "ec06eef8",
   "metadata": {},
   "outputs": [],
   "source": []
  }
 ],
 "metadata": {
  "kernelspec": {
   "display_name": "Python 3 (ipykernel)",
   "language": "python",
   "name": "python3"
  },
  "language_info": {
   "codemirror_mode": {
    "name": "ipython",
    "version": 3
   },
   "file_extension": ".py",
   "mimetype": "text/x-python",
   "name": "python",
   "nbconvert_exporter": "python",
   "pygments_lexer": "ipython3",
   "version": "3.9.13"
  }
 },
 "nbformat": 4,
 "nbformat_minor": 5
}
