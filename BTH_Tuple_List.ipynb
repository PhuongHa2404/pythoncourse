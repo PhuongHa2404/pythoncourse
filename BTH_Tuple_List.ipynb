{
 "cells": [
  {
   "cell_type": "code",
   "execution_count": 57,
   "id": "16ad4d62",
   "metadata": {},
   "outputs": [
    {
     "name": "stdout",
     "output_type": "stream",
     "text": [
      "DS SV có điểm toán cao nhất:\n",
      "('Cao Hoàng Yến', 20, 'Bắc Ninh')\n",
      "điểm TK và xếp loại của SV:\n",
      "[('Hà Văn Hoàng', 24, 'Hà Nội', 3, 9, 10, 6.25, 'Khá'), ('Trần Minh Tân', 26, 'Nghệ An', 5, 8, 7, 6.25, 'Khá'), ('Cao Hoàng Yến', 20, 'Bắc Ninh', 9, 10, 9, 9.25, 'Giỏi'), ('Nguyễn Duy Linh', 21, 'Hà Nam', 5, 2, 1, 3.25, 'Yếu')]\n",
      "('Cao Hoàng Yến', 20, 'Bắc Ninh')\n",
      "DS theo tên:\n",
      "[('Cao Hoàng Yến', 20, 'Bắc Ninh', 9, 10, 9, 9.25, 'Giỏi'), ('Hà Văn Hoàng', 24, 'Hà Nội', 3, 9, 10, 6.25, 'Khá'), ('Nguyễn Duy Linh', 21, 'Hà Nam', 5, 2, 1, 3.25, 'Yếu'), ('Trần Minh Tân', 26, 'Nghệ An', 5, 8, 7, 6.25, 'Khá')]\n",
      "DS theo xếp loại:\n",
      "[('Cao Hoàng Yến', 20, 'Bắc Ninh', 9, 10, 9, 9.25, 'Giỏi'), ('Hà Văn Hoàng', 24, 'Hà Nội', 3, 9, 10, 6.25, 'Khá'), ('Trần Minh Tân', 26, 'Nghệ An', 5, 8, 7, 6.25, 'Khá'), ('Nguyễn Duy Linh', 21, 'Hà Nam', 5, 2, 1, 3.25, 'Yếu')]\n",
      "sort theo điểm toán giảm dần\n",
      "[('Cao Hoàng Yến', 20, 'Bắc Ninh', 9, 10, 9, 9.25, 'Giỏi'), ('Trần Minh Tân', 26, 'Nghệ An', 5, 8, 7, 6.25, 'Khá'), ('Nguyễn Duy Linh', 21, 'Hà Nam', 5, 2, 1, 3.25, 'Yếu'), ('Hà Văn Hoàng', 24, 'Hà Nội', 3, 9, 10, 6.25, 'Khá')]\n"
     ]
    }
   ],
   "source": [
    "students = [('Hà Văn Hoàng', 24, 'Hà Nội',3, 9, 10),\n",
    "            ('Trần Minh Tân', 26, 'Nghệ An', 5, 8, 7),\n",
    "            ('Cao Hoàng Yến', 20, 'Bắc Ninh', 9, 10, 9),\n",
    "            ('Nguyễn Duy Linh', 21, 'Hà Nam', 5, 2, 1)]\n",
    "\n",
    "#print(students)\n",
    "#print(type(students))\n",
    "\n",
    "#Tìm SV có điểm toán cao nhất\n",
    "diemMax = 0\n",
    "for sv in students:\n",
    "        if sv[3] > diemMax:\n",
    "            diemMax = sv[3]\n",
    "print(\"DS SV có điểm toán cao nhất:\")            \n",
    "for sv in students:\n",
    "    if(sv[3] == diemMax):\n",
    "        print(sv[:3])\n",
    "#tính toán và thêm ĐTK vào cuối mỗi tuple của list. (toán * 2 + lý + hóa)/4\n",
    "#thêm xếp loại ( >8: giỏi, > 6: khá, > 5: TB, ; yếu)\n",
    "#tìm sv có DTK cao nhất\n",
    "diemTKMax = 0\n",
    "students_New = []\n",
    "for sv in students:\n",
    "    diemTongKet = (sv[3] * 2 + sv[4] + sv[5])/4\n",
    "    if (diemTongKet <=5):\n",
    "        xepLoai = \"Yếu\"\n",
    "    elif (diemTongKet > 5 and diemTongKet <=6):\n",
    "        xepLoai = \"TB\"\n",
    "    elif (diemTongKet > 6 and diemTongKet <=8):\n",
    "        xepLoai = \"Khá\"\n",
    "    else: \n",
    "        xepLoai = \"Giỏi\"\n",
    "    temp = list(sv)\n",
    "    temp.append(diemTongKet)\n",
    "    temp.append(xepLoai)\n",
    "    students_New.append(tuple(temp))\n",
    "print(\"điểm TK và xếp loại của SV:\")     \n",
    "students = students_New\n",
    "print(students)\n",
    "\n",
    "#tìm sv có DTK cao nhất\n",
    "for sv in students_New:\n",
    "    if sv[6] > diemTKMax:\n",
    "            diemTKMax = sv[6]\n",
    "for sv in students_New:\n",
    "    if(sv[6] == diemTKMax):\n",
    "        print(sv[:3])\n",
    "\n",
    "        \n",
    "#sort ds theo tên\n",
    "print(\"DS theo tên:\")\n",
    "students = sorted(students)\n",
    "print(students)\n",
    "#sort ds theo XL\n",
    "print(\"DS theo xếp loại:\")\n",
    "students = sorted(students, key = lambda x:x[-1])\n",
    "print(students)\n",
    "\n",
    "#sort theo điểm toán giảm dần    \n",
    "print(\"sort theo điểm toán giảm dần\")\n",
    "students = sorted(students, key = lambda x:x[3], reverse=True)\n",
    "print(students)"
   ]
  }
 ],
 "metadata": {
  "kernelspec": {
   "display_name": "Python 3 (ipykernel)",
   "language": "python",
   "name": "python3"
  },
  "language_info": {
   "codemirror_mode": {
    "name": "ipython",
    "version": 3
   },
   "file_extension": ".py",
   "mimetype": "text/x-python",
   "name": "python",
   "nbconvert_exporter": "python",
   "pygments_lexer": "ipython3",
   "version": "3.9.13"
  }
 },
 "nbformat": 4,
 "nbformat_minor": 5
}
