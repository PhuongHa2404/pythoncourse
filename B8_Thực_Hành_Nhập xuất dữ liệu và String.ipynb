{
 "cells": [
  {
   "cell_type": "code",
   "execution_count": 5,
   "id": "c4500382",
   "metadata": {},
   "outputs": [
    {
     "name": "stdout",
     "output_type": "stream",
     "text": [
      "Tôi\n",
      "Titíh\n",
      "T í   c\n",
      "Titíhđ ulc\n",
      "hcịl ud iđ hcíht iôT\n"
     ]
    }
   ],
   "source": [
    "# cắt string theo index\n",
    "# cú pháp : <tên biến > [start:end:step]\n",
    "text = \"Tôi thích đi du lịch\"\n",
    "print(text[0:3])\n",
    "print(text[0:10:2])\n",
    "print(text[0:len(text):3])\n",
    "print(text[: : 2]) #start default là 0 , end default là len(text) ,step có thể đi từ giá trị âm\n",
    "print(text[: : -1])"
   ]
  },
  {
   "cell_type": "code",
   "execution_count": 9,
   "id": "493419fb",
   "metadata": {},
   "outputs": [],
   "source": [
    "# ghep chuỗi và lặp chuỗi \n"
   ]
  },
  {
   "cell_type": "code",
   "execution_count": 2,
   "id": "ce8e459a",
   "metadata": {},
   "outputs": [],
   "source": [
    "# count\n"
   ]
  },
  {
   "cell_type": "markdown",
   "id": "b6a2b340",
   "metadata": {},
   "source": [
    "#### thực hành xử lý và in ra các thông tin tương ứng trong chuỗi "
   ]
  },
  {
   "cell_type": "code",
   "execution_count": 3,
   "id": "b1467f87",
   "metadata": {},
   "outputs": [
    {
     "name": "stdout",
     "output_type": "stream",
     "text": [
      "Lớp học\n"
     ]
    }
   ],
   "source": [
    "content = \"Lớp học python căn bản buổi 8\"\n",
    "# in ra 2 chữ :lớp học\n",
    "\n",
    "# in ra 2 chữ: python\n",
    "\n",
    "# in ra 2 chữ: căn bản\n",
    "\n",
    "# in ra chữ : buổi 8"
   ]
  },
  {
   "cell_type": "markdown",
   "id": "ac31fbb3",
   "metadata": {},
   "source": [
    "# Bài Tập thực hành"
   ]
  },
  {
   "cell_type": "markdown",
   "id": "4ec0a0d3",
   "metadata": {},
   "source": [
    "## Bài Tập 1"
   ]
  },
  {
   "cell_type": "markdown",
   "id": "ca31248e",
   "metadata": {},
   "source": [
    "Giả sử một chiếc ô tô có vận tốc ban đầu v0, gia tốc a và thời gian t.</p>\n",
    "Viết chương trình python để tìm vận tốc cuối cùng của ô tô và in kết quả ra màn hình.</p>\n",
    "Sử dụng lệnh ép kiểu input() để nhập các giá trị tương ứng cho v0, a và t.</p>\n",
    "Dùng công thức v = v0 + a.t để tính vận tốc cuối cùng"
   ]
  },
  {
   "cell_type": "code",
   "execution_count": 19,
   "id": "aa8f4dde",
   "metadata": {},
   "outputs": [
    {
     "name": "stdout",
     "output_type": "stream",
     "text": [
      "Nhập vận tốc ban đầu: 20\n",
      "Nhập gia tốc: 10\n",
      "Nhập thời gian: 2\n",
      "Vận tốc cuối cùng: 40.0\n"
     ]
    }
   ],
   "source": [
    "v0 = float(input(\"Nhập vận tốc ban đầu: \"))\n",
    "a = float(input(\"Nhập gia tốc: \"))\n",
    "t = float(input(\"Nhập thời gian: \"))\n",
    "v = v0 + a*t\n",
    "print(\"Vận tốc cuối cùng:\", v)"
   ]
  },
  {
   "cell_type": "markdown",
   "id": "8b02bcd4",
   "metadata": {},
   "source": [
    "## Bài tập 2"
   ]
  },
  {
   "cell_type": "markdown",
   "id": "ab6b37b6",
   "metadata": {},
   "source": [
    "Viết chương trình để nhập điểm kiểm tra, điểm thi giữa kỳ, điểm thi cuối kỳ, sau đó tính tổng điểm và in kết quả ra màn hình"
   ]
  },
  {
   "cell_type": "code",
   "execution_count": 11,
   "id": "095535a9",
   "metadata": {},
   "outputs": [
    {
     "name": "stdout",
     "output_type": "stream",
     "text": [
      "nhập điểm kiểm tra: 5\n",
      "nhập điểm giữa kỳ: 7\n",
      "nhập điểm cuối kỳ: 9\n",
      "tổng điểm 21.0\n"
     ]
    }
   ],
   "source": [
    "diemKT_txt = input(\"nhập điểm kiểm tra: \")\n",
    "diemGK_txt = input(\"nhập điểm giữa kỳ: \")\n",
    "diemCK_txt = input(\"nhập điểm cuối kỳ: \")\n",
    "\n",
    "diemKT = float(diemKT_txt)\n",
    "diemGK = float(diemGK_txt)\n",
    "diemCK = float(diemCK_txt)\n",
    "tongDiem = diemKT + diemGK + diemCK\n",
    "print(\"tổng điểm {tong}\".format(tong=tongDiem))\n"
   ]
  },
  {
   "cell_type": "markdown",
   "id": "076b8074",
   "metadata": {},
   "source": [
    "## Bài Tập 3"
   ]
  },
  {
   "cell_type": "markdown",
   "id": "c0009d80",
   "metadata": {},
   "source": [
    "Viết chương chình nhập vào vận tốc và thời gian của xe chạy của xe taxi </p>\n",
    "yêu cầu 1 :tính quãng đường xe chạy được bao nhiêu km.</p>\n",
    "yêu cầu 2 : đổi km về m </p>\n",
    "yêu cầu 3 : cho biết cứ mỗi 1 km thì được tính với giá cước là 23000 đồng ,hãy tính tổng số tiền khách phải trả."
   ]
  },
  {
   "cell_type": "code",
   "execution_count": 15,
   "id": "f9940525",
   "metadata": {},
   "outputs": [
    {
     "name": "stdout",
     "output_type": "stream",
     "text": [
      "Nhập vận tốc: 40\n",
      "Nhập thời gian xe chạy(giờ): 2.5\n",
      "Tổng tiền phải trả: 2300000.0\n"
     ]
    }
   ],
   "source": [
    "vanToc = float(input(\"Nhập vận tốc: \"))\n",
    "time = float(input(\"Nhập thời gian xe chạy(giờ): \"))\n",
    "s = vanToc * time\n",
    "s_QuyDoi = s * 1000\n",
    "tongTien = s * 23000\n",
    "print(\"Tổng tiền phải trả:\", tongTien)"
   ]
  },
  {
   "cell_type": "markdown",
   "id": "14e3f09c",
   "metadata": {},
   "source": [
    "## Bài Tập 4"
   ]
  },
  {
   "cell_type": "markdown",
   "id": "07a5d8a0",
   "metadata": {},
   "source": [
    "Nhập vào một string và một số x ,hãy xóa x ký tự đầu tiên của string </p>\n",
    "ví dụ : string = \"hello python\" ,x = 3 </p>\n",
    "    output: \"lo python\""
   ]
  },
  {
   "cell_type": "code",
   "execution_count": 10,
   "id": "b1465df0",
   "metadata": {},
   "outputs": [
    {
     "name": "stdout",
     "output_type": "stream",
     "text": [
      "nhập chuỗi: hello python\n",
      "nhập số ký tự muốn xóa: 3\n",
      "lo python\n"
     ]
    }
   ],
   "source": [
    "chuoi = input(\"nhập chuỗi: \")\n",
    "x = int(input(\"nhập số ký tự muốn xóa: \"))\n",
    "print(chuoi[x:])"
   ]
  },
  {
   "cell_type": "markdown",
   "id": "1cd79c05",
   "metadata": {},
   "source": [
    "## Bài Tập 5"
   ]
  },
  {
   "cell_type": "markdown",
   "id": "d0956054",
   "metadata": {},
   "source": [
    "Nhập vào một string ,hãy kiểm tra đây có phải là một string đối xứng không</p>\n",
    "Lưu ý : chuối đối xứng là chuối có thứ tự giống nhau khi đọc từ trái sáng phải hoặc ngược lại</p>\n",
    "vd : abba , abcddcba"
   ]
  },
  {
   "cell_type": "code",
   "execution_count": 45,
   "id": "43d5c2eb",
   "metadata": {},
   "outputs": [
    {
     "name": "stdout",
     "output_type": "stream",
     "text": [
      "Nhập chuỗi cần kiểm tra: abccba\n",
      "abccba  là chuỗi đối xứng\n"
     ]
    }
   ],
   "source": [
    "chuoi = input(\"Nhập chuỗi cần kiểm tra: \")\n",
    "viTriGiua = int(len(chuoi) / 2)\n",
    " \n",
    "if len(chuoi) % 2 == 0: \n",
    "    veDau = chuoi[:viTriGiua]\n",
    "    veSau = chuoi[viTriGiua:]\n",
    "else: \n",
    "    veDau = chuoi[:viTriGiua]\n",
    "    veSau = chuoi[viTriGiua+1:]\n",
    " \n",
    "\n",
    "if veDau == veSau[::-1]:\n",
    "    print(chuoi, 'là chuỗi đối xứng')\n",
    "else:\n",
    "    print(chuoi, 'không là chuỗi đối xứng')\n",
    " "
   ]
  },
  {
   "cell_type": "markdown",
   "id": "2d88272f",
   "metadata": {},
   "source": [
    "## Bài Tập 6 "
   ]
  },
  {
   "cell_type": "markdown",
   "id": "ba2c57ba",
   "metadata": {},
   "source": [
    "Nhập vào một chuỗi string gồm 5 chữ và thực hiện các thao tác :</p>\n",
    "    in ra đổi 2 chữ đầu tiên</p>\n",
    "    in ra chuỗi đó đều in thường</p>\n",
    "    in ra chuỗi đó đều in hoa</p>\n",
    "    in cắt chuỗi đó thành nhiều chuỗi nhỏ</p>\n",
    "    in cắt đó thành những từ có nghĩa</p>\n",
    "    "
   ]
  },
  {
   "cell_type": "code",
   "execution_count": 17,
   "id": "a86cc73b",
   "metadata": {},
   "outputs": [
    {
     "name": "stdout",
     "output_type": "stream",
     "text": [
      "Nhập chuỗi: nhap xuat du lieu\n",
      "Nhập ký tự đổi: NH\n",
      "NHhap xuat du lieu\n",
      "nhap xuat du lieu\n",
      "NHAP XUAT DU LIEU\n",
      "['n', 'h', 'a', 'p', ' ', 'x', 'u', 'a', 't', ' ', 'd', 'u', ' ', 'l', 'i', 'e', 'u']\n",
      "['nhap', 'xuat', 'du', 'lieu']\n"
     ]
    }
   ],
   "source": [
    "chuoi = input(\"Nhập chuỗi: \")\n",
    "textReplace = input(\"Nhập ký tự đổi: \")\n",
    "#in ra đổi 2 chữ đầu tiên\n",
    "print(chuoi.replace(chuoi[0:1],textReplace))\n",
    "#in ra chuỗi đó đều in thường\n",
    "print(chuoi.lower())\n",
    "#in ra chuỗi đó đều in hoa\n",
    "print(chuoi.upper())\n",
    "#in cắt chuỗi đó thành nhiều chuỗi nhỏ\n",
    "print([*chuoi])\n",
    "#in cắt đó thành những từ có nghĩa\n",
    "print(chuoi.split(\" \"))"
   ]
  },
  {
   "cell_type": "markdown",
   "id": "a562eb4b",
   "metadata": {},
   "source": [
    "## Bài Tập 7"
   ]
  },
  {
   "cell_type": "markdown",
   "id": "fe077b04",
   "metadata": {},
   "source": [
    "Nhập vào 2 chuỗi , chuỗi 1 là Họ và tên đệm, chuỗi 2 là tên của mình </p>\n",
    "Yêu cầu : nối 2 chuỗi lại hoàn chỉnh </p>\n",
    "    vd : Họ tên đêm : Nguyễn Văn </p>\n",
    "        Tên : A</p>\n",
    "     output: Nguyễn Văn A"
   ]
  },
  {
   "cell_type": "code",
   "execution_count": 3,
   "id": "c7787a7c",
   "metadata": {},
   "outputs": [
    {
     "name": "stdout",
     "output_type": "stream",
     "text": [
      "nhập họ đệm: trần thanh phương\n",
      "Nhập tên: hà\n",
      "trần thanh phương hà\n"
     ]
    }
   ],
   "source": [
    "hodem = input(\"nhập họ đệm: \")\n",
    "ten = input(\"Nhập tên: \")\n",
    "print(hodem, ten)"
   ]
  },
  {
   "cell_type": "code",
   "execution_count": null,
   "id": "4d5b354b",
   "metadata": {},
   "outputs": [],
   "source": []
  }
 ],
 "metadata": {
  "kernelspec": {
   "display_name": "Python 3 (ipykernel)",
   "language": "python",
   "name": "python3"
  },
  "language_info": {
   "codemirror_mode": {
    "name": "ipython",
    "version": 3
   },
   "file_extension": ".py",
   "mimetype": "text/x-python",
   "name": "python",
   "nbconvert_exporter": "python",
   "pygments_lexer": "ipython3",
   "version": "3.9.13"
  }
 },
 "nbformat": 4,
 "nbformat_minor": 5
}
