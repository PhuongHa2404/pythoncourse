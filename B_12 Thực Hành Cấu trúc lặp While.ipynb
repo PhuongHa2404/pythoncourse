{
 "cells": [
  {
   "cell_type": "markdown",
   "id": "4bb7ce8c",
   "metadata": {},
   "source": [
    "# Thực Hành Vòng lặp While"
   ]
  },
  {
   "cell_type": "code",
   "execution_count": null,
   "id": "31713936",
   "metadata": {},
   "outputs": [],
   "source": [
    "\"\"\"\n",
    "Bài 1:viết chương trình in ra tất cả các số chia hết cho 5 và 7 trong khoảng từ 1000 đến 2700\n",
    "\n",
    "\"\"\"\n",
    "\n"
   ]
  },
  {
   "cell_type": "code",
   "execution_count": 4,
   "id": "7f5d80f0",
   "metadata": {},
   "outputs": [
    {
     "name": "stdout",
     "output_type": "stream",
     "text": [
      "1015\n",
      "1050\n",
      "1085\n",
      "1120\n",
      "1155\n",
      "1190\n",
      "1225\n",
      "1260\n",
      "1295\n",
      "1330\n",
      "1365\n",
      "1400\n",
      "1435\n",
      "1470\n",
      "1505\n",
      "1540\n",
      "1575\n",
      "1610\n",
      "1645\n",
      "1680\n",
      "1715\n",
      "1750\n",
      "1785\n",
      "1820\n",
      "1855\n",
      "1890\n",
      "1925\n",
      "1960\n",
      "1995\n",
      "2030\n",
      "2065\n",
      "2100\n",
      "2135\n",
      "2170\n",
      "2205\n",
      "2240\n",
      "2275\n",
      "2310\n",
      "2345\n",
      "2380\n",
      "2415\n",
      "2450\n",
      "2485\n",
      "2520\n",
      "2555\n",
      "2590\n",
      "2625\n",
      "2660\n",
      "2695\n"
     ]
    }
   ],
   "source": [
    "i = 1000\n",
    "while i <= 2700:\n",
    "    if i % 5 == 0 and i % 7 == 0:\n",
    "        print (i)\n",
    "    i += 1"
   ]
  },
  {
   "cell_type": "code",
   "execution_count": null,
   "id": "4ddcd58c",
   "metadata": {},
   "outputs": [],
   "source": [
    "\"\"\"\n",
    "Bài 2 : Viết chương trình nhập vào chiều cao tam giác vuông và in ra hình tam giác có hình dạng như sau:\n",
    "*****\n",
    "****\n",
    "***\n",
    "**\n",
    "*\n",
    "\"\"\"\n"
   ]
  },
  {
   "cell_type": "code",
   "execution_count": 5,
   "id": "c3d3c3a1",
   "metadata": {},
   "outputs": [
    {
     "name": "stdout",
     "output_type": "stream",
     "text": [
      "Nhập chiều cao tam giác vuông10\n",
      "**********\n",
      "*********\n",
      "********\n",
      "*******\n",
      "******\n",
      "*****\n",
      "****\n",
      "***\n",
      "**\n",
      "*\n"
     ]
    }
   ],
   "source": [
    "h = int(input(\"Nhập chiều cao tam giác vuông\"))\n",
    "while h > 0:\n",
    "    print (h* '*')\n",
    "    h-=1\n",
    "    "
   ]
  },
  {
   "cell_type": "code",
   "execution_count": null,
   "id": "d7a43af9",
   "metadata": {},
   "outputs": [],
   "source": [
    "\"\"\"\n",
    "Bài 3: Viết chương trình nhập vào chiều cao của tam giác vuông và in ra tam giác có hình dạng như sau:\n",
    "* * * * * *\n",
    "* * * * *\n",
    "* * * * \n",
    "* * * \n",
    "* * \n",
    "*\n",
    "\"\"\"\n"
   ]
  },
  {
   "cell_type": "code",
   "execution_count": 6,
   "id": "fb1832ad",
   "metadata": {},
   "outputs": [
    {
     "name": "stdout",
     "output_type": "stream",
     "text": [
      "Nhập chiều cao tam giác vuông5\n",
      " * * * * *\n",
      " * * * *\n",
      " * * *\n",
      " * *\n",
      " *\n"
     ]
    }
   ],
   "source": [
    "h = int(input(\"Nhập chiều cao tam giác vuông\"))\n",
    "while h > 0:\n",
    "    print (h* ' *')\n",
    "    h-=1"
   ]
  },
  {
   "cell_type": "code",
   "execution_count": null,
   "id": "1a6f16df",
   "metadata": {},
   "outputs": [],
   "source": [
    "\"\"\"\n",
    "Bài 4: Viết chương trình nhập vào chiều cao tam giác vuông và in ra tam giác có hình dạng như sau:\n",
    "* - * - *\n",
    "* - * -\n",
    "* - *\n",
    "* -\n",
    "*\n",
    "\"\"\"\n"
   ]
  },
  {
   "cell_type": "code",
   "execution_count": 9,
   "id": "000276b2",
   "metadata": {},
   "outputs": [
    {
     "name": "stdout",
     "output_type": "stream",
     "text": [
      "Nhập chiều cao tam giác vuông5\n",
      "* - * - * - * - * \n",
      "* - * - * - * \n",
      "* - * - * \n",
      "* - * \n",
      "* \n"
     ]
    }
   ],
   "source": [
    "h = int(input(\"Nhập chiều cao tam giác vuông\"))\n",
    "while h > 0:\n",
    "    print ((h* '* - ')[:-2])\n",
    "    h-=1"
   ]
  },
  {
   "cell_type": "code",
   "execution_count": null,
   "id": "6c9d2b0c",
   "metadata": {},
   "outputs": [],
   "source": [
    "\"\"\"\n",
    "Bài 5: Viết chương trình bằng while  để tìm tổng dãy số: 1/1 + 1/2 + 1/3 + 1/4 + ... với số phần tử nhập từ bàn phím.\n",
    "\"\"\"\n",
    "\n"
   ]
  },
  {
   "cell_type": "code",
   "execution_count": 14,
   "id": "039ea487",
   "metadata": {},
   "outputs": [
    {
     "name": "stdout",
     "output_type": "stream",
     "text": [
      "Nhập n5\n",
      "1/1 + 1/2 + 1/3 + 1/4 + 1/5  =  2.283333333333333\n"
     ]
    }
   ],
   "source": [
    "n = int(input(\"Nhập n: \"))\n",
    "i = 1\n",
    "sum = 0\n",
    "sum_Str = \"\"\n",
    "while i <= n:\n",
    "    sum += 1/i\n",
    "    sum_Str += \"1/\" + str(i) + \" + \"\n",
    "    i+=1\n",
    "print (sum_Str[:-2], \"= \", sum)"
   ]
  },
  {
   "cell_type": "code",
   "execution_count": null,
   "id": "07669a93",
   "metadata": {},
   "outputs": [],
   "source": [
    "\"\"\"\n",
    "Bài 6: Viết chương trình bằng while để tìm tổng dãy số: 1 - x2/2! + x4/4! - ... với giá trị x và số phần tử nhập từ bàn phím.\n",
    "\"\"\"\n"
   ]
  },
  {
   "cell_type": "code",
   "execution_count": 30,
   "id": "368f3813",
   "metadata": {},
   "outputs": [
    {
     "name": "stdout",
     "output_type": "stream",
     "text": [
      "Nhập x: 5\n",
      "x2/2! + x4/4! + x6/6! + x8/8! + x10/10!  =  72.62232005070547\n"
     ]
    }
   ],
   "source": [
    "import math\n",
    "x = int(input(\"Nhập x: \"))\n",
    "\n",
    "i = 1\n",
    "sum = 0\n",
    "sign = 1\n",
    "sum_Str = \"\"\n",
    "while i <= x:\n",
    "    sum += sign *x**(2*i)/math.factorial(2*i)\n",
    "    sum_Str += \"x\" + str(2*i) + \"/\" + str(2*i) + \"! + \"\n",
    "    i+=1\n",
    "print (sum_Str[:-2], \"= \", str(sum))"
   ]
  },
  {
   "cell_type": "code",
   "execution_count": null,
   "id": "f062542f",
   "metadata": {},
   "outputs": [],
   "source": [
    "\"\"\"\n",
    "Bài 7: Viết chương trình bằng while để tìm ước số chung lớn nhất của hai số được nhập từ bàn phím\n",
    "\"\"\"\n"
   ]
  },
  {
   "cell_type": "code",
   "execution_count": 35,
   "id": "a385d376",
   "metadata": {},
   "outputs": [
    {
     "name": "stdout",
     "output_type": "stream",
     "text": [
      "a = 67\n",
      "b = 13\n",
      "1\n"
     ]
    }
   ],
   "source": [
    "a = int (input(\"a = \"))\n",
    "b = int (input(\"b = \"))\n",
    "\n",
    "while a != b:\n",
    "    if (a > b):\n",
    "        a = a - b\n",
    "    else:\n",
    "        b = b - a\n",
    "\n",
    "print(a)"
   ]
  },
  {
   "cell_type": "code",
   "execution_count": 34,
   "id": "a26a6c45",
   "metadata": {},
   "outputs": [
    {
     "data": {
      "text/plain": [
       "'\\nBài 8: Viết chương trình bằng while để tìm bội số chung nhỏ nhất của hai số bất kỳ được nhập từ bàn phím và không sử dụng ước số \\nchung lớn nhất (USCLN) của hai số đó\\n'"
      ]
     },
     "execution_count": 34,
     "metadata": {},
     "output_type": "execute_result"
    }
   ],
   "source": [
    "'''\n",
    "Bài 8: Viết chương trình bằng while để tìm bội số chung nhỏ nhất của hai số bất kỳ được nhập từ bàn phím và không sử dụng ước số \n",
    "chung lớn nhất (USCLN) của hai số đó\n",
    "'''"
   ]
  },
  {
   "cell_type": "code",
   "execution_count": 42,
   "id": "d9d7cba4",
   "metadata": {},
   "outputs": [
    {
     "name": "stdout",
     "output_type": "stream",
     "text": [
      "a = 100\n",
      "b = 20\n",
      "BCNN của 100 và 20 la 100\n"
     ]
    }
   ],
   "source": [
    "a = int (input(\"a = \"))\n",
    "b = int (input(\"b = \"))\n",
    "bCNN = a if (a > b) else b\n",
    "while True:\n",
    "    if bCNN % a == 0 and bCNN % b == 0:\n",
    "        print(f\"BCNN của {a} và {b} la {bCNN}\")\n",
    "        break\n",
    "    bCNN+=1"
   ]
  },
  {
   "cell_type": "code",
   "execution_count": null,
   "id": "b4460c5d",
   "metadata": {},
   "outputs": [],
   "source": [
    "\"\"\"\n",
    "Bài 9: viết chương trình dùng while Vẽ hình kim cương bằng dấu sao\n",
    "\"\"\"\n",
    "\n"
   ]
  },
  {
   "cell_type": "code",
   "execution_count": 4,
   "id": "f53e41f3",
   "metadata": {},
   "outputs": [
    {
     "name": "stdout",
     "output_type": "stream",
     "text": [
      "Nhập n7\n",
      "   *   \n",
      "  ***  \n",
      " ***** \n",
      "*******\n",
      " ***** \n",
      "  ***  \n",
      "   *   \n"
     ]
    }
   ],
   "source": [
    "n = int(input(\"Nhập n\"))\n",
    "i = 1\n",
    "j = 1\n",
    "k = 1\n",
    "#for i in range(1, n+1):\n",
    "#    for j in range(1, n+1-i):\n",
    "#        print(\"\", end = \" \");\n",
    "#    for k in range(1, i+1):\n",
    "#        print(\"*\", end=\" \");\n",
    "#    print()\n",
    "\n",
    "#for i in range(1, n):\n",
    "#    for j in range(1, i+1):\n",
    "#        print(\"\", end = \" \");\n",
    "#    for j in range(1, n+1-i):\n",
    "#        print(\"*\", end=\" \");\n",
    "#    print()\n",
    "    \n",
    "    \n",
    "while i <=n:\n",
    "    if i <=n//2 + 1:\n",
    "        vt = 2*i-1\n",
    "    else:\n",
    "        vt = 2*(n-i+1)-1\n",
    "    print(\" \"* ((n-vt)//2) + (\"*\"*vt) + \" \"* ((n-vt)//2))\n",
    "    i+=1\n",
    "\n",
    "    \n"
   ]
  },
  {
   "attachments": {
    "image.png": {
     "image/png": "[encoded data removed]"
    }
   },
   "cell_type": "markdown",
   "id": "12100c28",
   "metadata": {},
   "source": [
    "![image.png](attachment:image.png)"
   ]
  },
  {
   "cell_type": "code",
   "execution_count": null,
   "id": "8ff7e1b6",
   "metadata": {},
   "outputs": [],
   "source": [
    "\"\"\"\n",
    "Bài 10: Viết chương trình mô phỏng trò chơi kéo búa bao theo luật chơi như sau:\n",
    "Quy ước : 1 - Búa,2-kéo,3-bao\n",
    "khi trò chơi bắt đầu , yêu cầu người chơi nhập 1 số từ bàn phím đại diện cho kéo ,búa,bao\n",
    "chương trình tự random ra một lựa chọn từ 1 đến 3\n",
    "Nếu người chơi thua thì tiếp tục chơi cho đến khi kết thúc chương trình\n",
    "ví dụ:\n",
    "Lựa chọn(1-Búa, 2-Kéo,3-Bao): 1\n",
    "Máy tính chọn : 3\n",
    "Người chơi thua\n",
    "\n",
    "Lựa chọn(1-Búa, 2-Kéo,3-Bao): 2\n",
    "Máy tính chọn : 1\n",
    "Người chơi thua\n",
    "\n",
    "Lựa chọn(1-Búa, 2-Kéo,3-Bao): 1\n",
    "Máy tính chọn : 2\n",
    "Người chơi thắng\n",
    "\n",
    "\"\"\"\n"
   ]
  },
  {
   "cell_type": "code",
   "execution_count": 5,
   "id": "552e7524",
   "metadata": {},
   "outputs": [
    {
     "name": "stdout",
     "output_type": "stream",
     "text": [
      "1 - búa, 2 - kéo, 3 - bao:1\n",
      "người chơi thắng\n"
     ]
    }
   ],
   "source": [
    "from random import randint\n",
    "kq = False\n",
    "while not kq:\n",
    "    user_choice = int(input(\"1 - búa, 2 - kéo, 3 - bao:\"))\n",
    "    com_choice = randint(1,3)\n",
    "    if user_choice != 3 and user_choice + 1 == com_choice:\n",
    "        print(\"người chơi thắng\")\n",
    "        kq = True\n",
    "    elif user_choice == 3 and com_choice == 1:\n",
    "        print(\"người chơi thắng\")\n",
    "        kq = True \n",
    "    elif user_choice == 2 and com_choice == 3:\n",
    "        print(\"người chơi thắng\")\n",
    "        kq = True\n",
    "    else:\n",
    "        print(\"người chơi thắng\")\n",
    "        kq = True"
   ]
  },
  {
   "cell_type": "code",
   "execution_count": null,
   "id": "08ce800c",
   "metadata": {},
   "outputs": [],
   "source": []
  }
 ],
 "metadata": {
  "kernelspec": {
   "display_name": "Python 3",
   "language": "python",
   "name": "python3"
  },
  "language_info": {
   "codemirror_mode": {
    "name": "ipython",
    "version": 3
   },
   "file_extension": ".py",
   "mimetype": "text/x-python",
   "name": "python",
   "nbconvert_exporter": "python",
   "pygments_lexer": "ipython3",
   "version": "3.11.0 (main, Oct 24 2022, 18:26:48) [MSC v.1933 64 bit (AMD64)]"
  },
  "vscode": {
   "interpreter": {
    "hash": "1a6ea2ec219574639e902021ed117f2d5fd2fad29015ef842c9462a491cd2652"
   }
  }
 },
 "nbformat": 4,
 "nbformat_minor": 5
}
