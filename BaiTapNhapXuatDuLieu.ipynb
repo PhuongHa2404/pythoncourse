{
 "cells": [
  {
   "cell_type": "code",
   "execution_count": 1,
   "id": "18bf20aa",
   "metadata": {},
   "outputs": [
    {
     "name": "stdout",
     "output_type": "stream",
     "text": [
      "Nhập màu hoặc mã màu: red\n",
      "Nhập chiều dài hình chữ nhật: 100\n",
      "Nhập chiều rộng hình chữ nhật: 60\n",
      "Chu vi của hình chữ nhật (dài = 100.0, rộng = 60.0) là 320.0\n",
      "Diện tích của hình chữ nhật (dài = 100.0, rộng = 60.0) là 6000.0\n"
     ]
    }
   ],
   "source": [
    "#Bước 1: Import các thư viện turtle\n",
    "\n",
    "import turtle\n",
    "#Bước 2: Nhập vào màu tô, chiều dài, chiều rộng hình chữ nhật\n",
    "\n",
    "color = input(\"Nhập màu hoặc mã màu: \")\n",
    "w = float(input(\"Nhập chiều dài hình chữ nhật: \"))\n",
    "h = float(input(\"Nhập chiều rộng hình chữ nhật: \"))\n",
    "#Bước 3: Vẽ hình chữ nhật, tô màu theo dữ liệu nhập vào\n",
    "t = turtle.Turtle()\n",
    "t.hideturtle()\n",
    "#Thiết lập tô màu\n",
    "\n",
    "t.color(color)\n",
    "t.begin_fill()\n",
    "#Vẽ cạnh trên chiều dài\n",
    "\n",
    "t.forward(w)\n",
    "t.right(90)\n",
    "#Vẽ cạnh bên phải chiều rộng\n",
    "\n",
    "t.forward(h)\n",
    "t.right(90)\n",
    "#Vẽ cạnh dưới chiều dài\n",
    "\n",
    "t.forward(w)\n",
    "t.right(90)\n",
    "#Vẽ cạnh bên trái chiều rộng\n",
    "\n",
    "t.forward(h)\n",
    "t.end_fill()\n",
    "#Kết thúc vẽ\n",
    "\n",
    "turtle.done()\n",
    "#Bước 4: Tính chu vi, diện tích hình chữ nhật\n",
    "\n",
    "c = 2 * (w + h)\n",
    "s = w * h\n",
    "#Bước 5: Hiển thị kết quả\n",
    "\n",
    "print(\"Chu vi của hình chữ nhật (dài = {w}, rộng = {h}) là {c}\".format(w=w, h=h, c=c))\n",
    "print(\"Diện tích của hình chữ nhật (dài = {w}, rộng = {h}) là {s}\".format(w=w, h=h, s=s))"
   ]
  },
  {
   "cell_type": "code",
   "execution_count": 5,
   "id": "c9e5aeee",
   "metadata": {},
   "outputs": [
    {
     "name": "stdout",
     "output_type": "stream",
     "text": [
      "Nhập số tiền USD cần đổi: 235\n",
      "Nhập tỉ giá USD/VND : 22340\n",
      "số tiền VND theo tỉ giá và số tiền USD nhập vào bên trên là 5249900 đồng\n"
     ]
    }
   ],
   "source": [
    "#Bước 1: Nhập số tiền USD cần đổi\n",
    "tien_usd = int(input(\"Nhập số tiền USD cần đổi: \"))\n",
    "#Bước 2: Nhập tỉ giá USD/VND \n",
    "ti_gia = float(input(\"Nhập tỉ giá USD/VND : \"))\n",
    "#Bước 3: Tính toán ra số tiền VND theo tỉ giá và số tiền USD nhập vào bên trên\n",
    "tien_vnd = int(tien_usd * ti_gia)\n",
    "#Bước 4: In ra kết quả\n",
    "print(\"số tiền VND theo tỉ giá và số tiền USD nhập vào bên trên là {tien} đồng\".format(tien=tien_vnd))"
   ]
  },
  {
   "cell_type": "code",
   "execution_count": null,
   "id": "26e570cd",
   "metadata": {},
   "outputs": [],
   "source": []
  }
 ],
 "metadata": {
  "kernelspec": {
   "display_name": "Python 3 (ipykernel)",
   "language": "python",
   "name": "python3"
  },
  "language_info": {
   "codemirror_mode": {
    "name": "ipython",
    "version": 3
   },
   "file_extension": ".py",
   "mimetype": "text/x-python",
   "name": "python",
   "nbconvert_exporter": "python",
   "pygments_lexer": "ipython3",
   "version": "3.9.13"
  }
 },
 "nbformat": 4,
 "nbformat_minor": 5
}
