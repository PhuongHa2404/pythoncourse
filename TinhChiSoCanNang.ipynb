{
 "cells": [
  {
   "cell_type": "code",
   "execution_count": 4,
   "id": "5fcc5eb8",
   "metadata": {},
   "outputs": [
    {
     "name": "stdout",
     "output_type": "stream",
     "text": [
      "Nhập chiều cao (m): 1.919\n",
      "Nhập cân nặng (kg): 88.55\n",
      "Bình thường\n"
     ]
    }
   ],
   "source": [
    "chieu_cao = float(input(\"Nhập chiều cao (m): \"))\n",
    "can_nang = float(input(\"Nhập cân nặng (kg): \"))\n",
    "bmi = can_nang / (chieu_cao** 2)\n",
    "if bmi < 16:\n",
    "    print(\"Gầy cấp độ III\")\n",
    "elif 16<= bmi and bmi < 17:\n",
    "    print(\"Gầy cấp độ II\")\n",
    "elif 17<= bmi and bmi < 18.5:\n",
    "    print(\"Gầy cấp độ I\")    \n",
    "elif 18.5<= bmi and bmi < 25:\n",
    "    print(\"Bình thường\")   \n",
    "elif 25<= bmi and bmi <30:\n",
    "    print(\"Thừa cân\")\n",
    "elif 30<= bmi and bmi < 35:\n",
    "    print(\"Béo phì cấp độ I\")\n",
    "elif 35<= bmi and bmi < 40:\n",
    "    print(\"Béo phì cấp độ II\")   \n",
    "else:\n",
    "    print(\"Béo phì cấp độ III\")\n"
   ]
  },
  {
   "cell_type": "code",
   "execution_count": null,
   "id": "6f74d7f2",
   "metadata": {},
   "outputs": [],
   "source": []
  }
 ],
 "metadata": {
  "kernelspec": {
   "display_name": "Python 3 (ipykernel)",
   "language": "python",
   "name": "python3"
  },
  "language_info": {
   "codemirror_mode": {
    "name": "ipython",
    "version": 3
   },
   "file_extension": ".py",
   "mimetype": "text/x-python",
   "name": "python",
   "nbconvert_exporter": "python",
   "pygments_lexer": "ipython3",
   "version": "3.9.13"
  }
 },
 "nbformat": 4,
 "nbformat_minor": 5
}
