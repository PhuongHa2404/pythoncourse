{
 "cells": [
  {
   "cell_type": "code",
   "execution_count": 1,
   "id": "d80bd439",
   "metadata": {},
   "outputs": [
    {
     "name": "stdout",
     "output_type": "stream",
     "text": [
      "Ho ten: Tran Thanh Phuong Ha - Noi o hien tai: TPHCM - Dinh huong tuong lai: Su dung kien thuc da hoc de phuc vu cho cong viec hien tai hoac chuyen huong sang data analysis\n"
     ]
    }
   ],
   "source": [
    "print (\"Ho ten: Tran Thanh Phuong Ha - Noi o hien tai: TPHCM - Dinh huong tuong lai: Su dung kien thuc da hoc de phuc vu cho cong viec hien tai hoac chuyen huong sang data analysis\");"
   ]
  },
  {
   "cell_type": "code",
   "execution_count": null,
   "id": "0334df7d",
   "metadata": {},
   "outputs": [],
   "source": []
  },
  {
   "cell_type": "code",
   "execution_count": null,
   "id": "2e0289db",
   "metadata": {},
   "outputs": [],
   "source": []
  }
 ],
 "metadata": {
  "kernelspec": {
   "display_name": "Python 3 (ipykernel)",
   "language": "python",
   "name": "python3"
  },
  "language_info": {
   "codemirror_mode": {
    "name": "ipython",
    "version": 3
   },
   "file_extension": ".py",
   "mimetype": "text/x-python",
   "name": "python",
   "nbconvert_exporter": "python",
   "pygments_lexer": "ipython3",
   "version": "3.9.13"
  }
 },
 "nbformat": 4,
 "nbformat_minor": 5
}
