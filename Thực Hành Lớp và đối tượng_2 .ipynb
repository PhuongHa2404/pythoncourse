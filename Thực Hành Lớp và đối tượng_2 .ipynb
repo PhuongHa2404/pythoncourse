{
 "cells": [
  {
   "cell_type": "markdown",
   "id": "82d2f168",
   "metadata": {},
   "source": [
    "Thực Hành 2 : Lớp Và Đối tượng "
   ]
  },
  {
   "cell_type": "markdown",
   "id": "5ed04cf5",
   "metadata": {},
   "source": [
    "Bài 1 Bank Account"
   ]
  },
  {
   "cell_type": "code",
   "execution_count": null,
   "id": "cbf13b60",
   "metadata": {},
   "outputs": [],
   "source": [
    "\"\"\"Tạo một lớp tên là BankAccount, đại diện cho tài khoản ngân hàng. Lớp này cần có các thuộc tính sau:\n",
    "\n",
    "balance: số tiền trong tài khoản.\n",
    "account_number: số tài khoản.\n",
    "\n",
    "Các phương thức của lớp BankAccount bao gồm:\n",
    "__init__(self, account_number): khởi tạo một tài khoản với số tài khoản được cung cấp và số dư ban đầu là 0.\n",
    "deposit(self, amount): gửi tiền vào tài khoản.\n",
    "withdraw(self, amount): rút tiền khỏi tài khoản.\n",
    "get_balance(self): lấy số dư hiện tại trong tài khoản"
   ]
  },
  {
   "cell_type": "code",
   "execution_count": 29,
   "id": "de2ba5a5",
   "metadata": {},
   "outputs": [
    {
     "name": "stdout",
     "output_type": "stream",
     "text": [
      "1. Nạp tiền - 2. Rút tiền - 3.Xem số dư. - 4.Thoát. Nhập 1/2/3/41\n",
      "Bạn muốn gửi bao nhiêu tiền?3000\n",
      "1. Nạp tiền - 2. Rút tiền - 3.Xem số dư. - 4.Thoát. Nhập 1/2/3/41\n",
      "Bạn muốn gửi bao nhiêu tiền?2000\n",
      "1. Nạp tiền - 2. Rút tiền - 3.Xem số dư. - 4.Thoát. Nhập 1/2/3/41\n",
      "Bạn muốn gửi bao nhiêu tiền?5000\n",
      "1. Nạp tiền - 2. Rút tiền - 3.Xem số dư. - 4.Thoát. Nhập 1/2/3/42\n",
      "Bạn muốn rút bao nhiêu tiền?100\n",
      "1. Nạp tiền - 2. Rút tiền - 3.Xem số dư. - 4.Thoát. Nhập 1/2/3/43\n",
      "Số dư của bạn là 9900\n",
      "1. Nạp tiền - 2. Rút tiền - 3.Xem số dư. - 4.Thoát. Nhập 1/2/3/44\n"
     ]
    }
   ],
   "source": [
    "class BankAccount():\n",
    "    def __init__(self):\n",
    "        self.balance = 0\n",
    "        self.account_number = ''\n",
    "    def add_account(self, account_number):\n",
    "        self.account_number = account_number\n",
    "    def deposit(self, amount): \n",
    "        #gửi tiền vào tài khoản.        \n",
    "        self.balance += amount\n",
    "    def withdraw(self, amount): \n",
    "        #rút tiền khỏi tài khoản.\n",
    "        self.balance -= amount\n",
    "    def get_balance(self): \n",
    "        #lấy số dư hiện tại trong tài khoản\n",
    "        print(f'Số dư của bạn là {self.balance}')\n",
    "\n",
    "tk = BankAccount()\n",
    "flag = 0\n",
    "while flag < 1 or flag > 4: \n",
    "    flag = int(input(\"1. Nạp tiền - 2. Rút tiền - 3.Xem số dư. - 4.Thoát. Nhập 1/2/3/4\"))\n",
    "    if flag == 1:\n",
    "        amount = int(input(\"Bạn muốn gửi bao nhiêu tiền?\"))\n",
    "        tk.deposit(amount)\n",
    "        flag = 0\n",
    "    elif flag ==2: \n",
    "        amount = int(input(\"Bạn muốn rút bao nhiêu tiền?\"))\n",
    "        tk.withdraw(amount)\n",
    "        flag = 0\n",
    "    elif flag ==3: \n",
    "        tk.get_balance()\n",
    "        flag = 0\n",
    "        "
   ]
  },
  {
   "cell_type": "markdown",
   "id": "0dece1d8",
   "metadata": {},
   "source": [
    "Bài 2 Book "
   ]
  },
  {
   "cell_type": "code",
   "execution_count": 30,
   "id": "8ab7557d",
   "metadata": {},
   "outputs": [
    {
     "data": {
      "text/plain": [
       "'Tạo một lớp có tên Book đại diện cho một cuốn sách. Lớp nên có các thuộc tính sau:\\ntitle: tên sách.\\ntác giả: tác giả của cuốn sách.\\nyear_published: năm xuất bản cuốn sách.\\nisbn: ISBN của cuốn sách.'"
      ]
     },
     "execution_count": 30,
     "metadata": {},
     "output_type": "execute_result"
    }
   ],
   "source": [
    "\"\"\"Tạo một lớp có tên Book đại diện cho một cuốn sách. Lớp nên có các thuộc tính sau:\n",
    "title: tên sách.\n",
    "tác giả: tác giả của cuốn sách.\n",
    "year_published: năm xuất bản cuốn sách.\n",
    "isbn: ISBN của cuốn sách.\"\"\""
   ]
  },
  {
   "cell_type": "code",
   "execution_count": 40,
   "id": "916c729c",
   "metadata": {},
   "outputs": [
    {
     "name": "stdout",
     "output_type": "stream",
     "text": [
      "Tên sách: sách tham khảo - Tác giả: Nhiều tác giả - Năm xuất bản: 2020 - ISBN: 1111\n"
     ]
    }
   ],
   "source": [
    "class Book():\n",
    "    def __init__(self,title,author,year_published,isbn):\n",
    "        self.title = title\n",
    "        self.author = author\n",
    "        self.year_published = year_published\n",
    "        self.isbn = isbn\n",
    "        print(f'Tên sách: {self.title} - Tác giả: {self.author} - Năm xuất bản: {self.year_published} - ISBN: {self.isbn}')\n",
    "book = Book('sách tham khảo', 'Nhiều tác giả', 2020, '1111')\n"
   ]
  },
  {
   "cell_type": "code",
   "execution_count": null,
   "id": "eab63571",
   "metadata": {},
   "outputs": [],
   "source": []
  },
  {
   "cell_type": "markdown",
   "id": "f343e1f2",
   "metadata": {},
   "source": [
    "Bài 3 People"
   ]
  },
  {
   "cell_type": "code",
   "execution_count": null,
   "id": "8be57c86",
   "metadata": {},
   "outputs": [],
   "source": [
    "\"\"\"Tạo class People gồm:\n",
    "\n",
    "Thuộc tính: name, age,address để lưu lần lượt các giá trị tên, tuổi và địa chỉ.\n",
    "Phương thức trong class People gồm: set(), get() là hàm nhập và xuất; hàm khởi tạo không tham số và hàm huỷ.\n",
    "Tạo class Students kế thừa từ class People.\n",
    "\n",
    "Class Students sẽ có thêm:\n",
    "\n",
    "Thuộc tính id để lưu mã sinh viên, math lưu điểm môn toán, physical để lưu điểm môn vật lý, chemistry để lưu điểm môn hoá học.\n",
    "Phương thức: set(), get(), GPA() để tính điểm trung bình 3 môn học.\"\"\""
   ]
  },
  {
   "cell_type": "code",
   "execution_count": 49,
   "id": "a0669c96",
   "metadata": {},
   "outputs": [
    {
     "name": "stdout",
     "output_type": "stream",
     "text": [
      "Nhập tênhà\n",
      "Nhập tuổi30\n",
      "Nhập địa chỉ1111\n",
      "Nhập mã SV010101\n",
      "Nhập điểm toán5\n",
      "Nhập điểm vật lý6\n",
      "Nhập điểm hóa học7\n",
      "Điểm trung bình 3 môn: 6.0\n"
     ]
    }
   ],
   "source": [
    "class People():\n",
    "    def __init__(self):\n",
    "        self.name = ''\n",
    "        self.age = 0\n",
    "        self.address = ''\n",
    "    def _del__(self): \n",
    "        pass\n",
    "    def set(self):\n",
    "        self.name = input(\"Nhập tên\")\n",
    "        self.age = int(input(\"Nhập tuổi\"))\n",
    "        self.address = input(\"Nhập địa chỉ\")\n",
    "    def get(self):\n",
    "        f'Tên: {self.name} - Tuổi: {self.age} - Địa chỉ: {self.address}'\n",
    "class Student(People):\n",
    "    def __init__(self):\n",
    "        super().__init__()\n",
    "        self.id = ''\n",
    "        self.math = 0\n",
    "        self.physical = 0\n",
    "        self.chemistry = 0\n",
    "    def set(self):\n",
    "        super().set()\n",
    "        self.id = input(\"Nhập mã SV\")\n",
    "        self.math = float(input(\"Nhập điểm toán\"))\n",
    "        self.physical = float(input(\"Nhập điểm vật lý\"))\n",
    "        self.chemistry = float(input(\"Nhập điểm hóa học\"))\n",
    "    def get(self):\n",
    "        super().get()\n",
    "        f'Mã SV: {self.id} - Toán: {self.math} - Vật lý: {self.physical} - Hóa học: {self.chemistry}'\n",
    "    def GPA(self):\n",
    "        diem = (self.math +self.physical + self.chemistry)/3\n",
    "        print(f'Điểm trung bình 3 môn: {diem}')\n",
    "\n",
    "sv = Student()\n",
    "sv.set()\n",
    "sv.get()\n",
    "sv.GPA()"
   ]
  },
  {
   "cell_type": "markdown",
   "id": "de222df5",
   "metadata": {},
   "source": [
    "Bài tập 4 Color"
   ]
  },
  {
   "cell_type": "code",
   "execution_count": null,
   "id": "4b0a70da",
   "metadata": {},
   "outputs": [],
   "source": [
    "\"\"\"Xây dựng lớp Color gồm:\n",
    "\n",
    "Thuộc tính: TenMau, MaMau\n",
    "\n",
    "Phương thức:\n",
    "\n",
    "Cấu tử không tham số\n",
    "Cấu tử có tham số\n",
    "Hủy\n",
    "Nạp chồng toán tử nhập\n",
    "Nạp chồng toán tử xuất\n",
    "getTenMau() : hàm trả về TenMau\n",
    "Xây dựng lớp Point gồm:\n",
    "\n",
    "Thuộc tính: int x, y\n",
    "\n",
    "Phương thức:\n",
    "\n",
    "Cấu tử không tham số\n",
    "Cấu tử có tham số\n",
    "Hủy\n",
    "Nạp chồng toán tử nhập\n",
    "Nạp chồng toán tử xuất\n",
    "CheoChinh : hàm kiểm tra Point có thuộc đường chéo chính hay không (1 điểm thuộc đường chéo chính khi và chỉ khi tung độ bằng hoành độ).\n",
    "Xây dựng lớp Pixel kế thừa từ lớp Color và Point bao gồm thêm:\n",
    "Phương thức:\n",
    "\n",
    "Cấu tử không tham số\n",
    "Cấu tử có tham số\n",
    "Nạp chồng toán tử nhập\n",
    "Nạp chồng toán tử xuất\n",
    "KiemTra: hàm kiểm tra Pixel thuộc đường chéo chính và có màu “Xanh” hay không?\n",
    "Chương trình chính: Nhập vào từ bàn phím n Pixel (n nhập từ bàn phím). Hiển thị thông\n",
    "tin các Pixel thuộc đường chéo chính và có màu xanh.\"\"\""
   ]
  },
  {
   "cell_type": "code",
   "execution_count": 58,
   "id": "ae5df8db",
   "metadata": {},
   "outputs": [
    {
     "name": "stdout",
     "output_type": "stream",
     "text": [
      "Nhập số Pixel3\n",
      "Nhập tên màuXanh\n",
      "Nhập mã màu1\n",
      "Nhập tọa độ x2\n",
      "Nhập tọa độ y2\n",
      "Nhập tên màuXanh\n",
      "Nhập mã màu3\n",
      "Nhập tọa độ x5\n",
      "Nhập tọa độ y6\n",
      "Nhập tên màuvàng\n",
      "Nhập mã màu1\n",
      "Nhập tọa độ x3\n",
      "Nhập tọa độ y3\n",
      "Các pixel thuộc chéo chính và có màu xanh: \n",
      "(Xanh, 1), Tọa độ: (2, 2)\n"
     ]
    }
   ],
   "source": [
    "class Color():\n",
    "    def __init__(self, tenMau = '', maMau = ''):\n",
    "        self.ten_mau = tenMau\n",
    "        self.ma_mau = maMau\n",
    "    def __str__(self):\n",
    "        return f'({self.ten_mau}, {self.ma_mau})'\n",
    "    def getTenMau(self):\n",
    "        return self.ten_mau\n",
    "    \n",
    "class Point():\n",
    "    def __init__(self, x=0,y=0):\n",
    "        self.x=x\n",
    "        self.y=y\n",
    "    def __str__(self):\n",
    "        return f'({self.x}, {self.y})'\n",
    "    def cheoChinh(self):\n",
    "        return self.x == self.y\n",
    "        \n",
    "class Pixel(Color,Point):   \n",
    "    def __init__(self, tenMau = '', maMau = '',x = 0,y = 0):\n",
    "        Color.__init__(self, tenMau, maMau)\n",
    "        Point.__init__(self,x, y)\n",
    "    def Check(self):\n",
    "        return self.cheoChinh() and self.ten_mau == \"Xanh\"\n",
    "    def __str__(self):\n",
    "        return f'({self.ten_mau}, {self.ma_mau}), Tọa độ: ({self.x}, {self.y})'\n",
    "\n",
    "n = int(input(\"Nhập số Pixel\"))\n",
    "pixel = []\n",
    "for i in range (n):\n",
    "    tenMau = input(\"Nhập tên màu\")\n",
    "    maMau = input(\"Nhập mã màu\")\n",
    "    x = int(input(\"Nhập tọa độ x\"))\n",
    "    y = int(input(\"Nhập tọa độ y\"))\n",
    "    c_pixel = Pixel(tenMau, maMau, x, y)\n",
    "    pixel.append(c_pixel)\n",
    "print(\"Các pixel thuộc chéo chính và có màu xanh: \")\n",
    "for j in pixel:\n",
    "    if j.Check():\n",
    "        print(j)"
   ]
  },
  {
   "cell_type": "markdown",
   "id": "42ca9af9",
   "metadata": {},
   "source": []
  },
  {
   "cell_type": "code",
   "execution_count": null,
   "id": "43b91edb",
   "metadata": {},
   "outputs": [],
   "source": []
  }
 ],
 "metadata": {
  "kernelspec": {
   "display_name": "Python 3 (ipykernel)",
   "language": "python",
   "name": "python3"
  },
  "language_info": {
   "codemirror_mode": {
    "name": "ipython",
    "version": 3
   },
   "file_extension": ".py",
   "mimetype": "text/x-python",
   "name": "python",
   "nbconvert_exporter": "python",
   "pygments_lexer": "ipython3",
   "version": "3.9.13"
  }
 },
 "nbformat": 4,
 "nbformat_minor": 5
}
