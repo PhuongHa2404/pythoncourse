{
 "cells": [
  {
   "cell_type": "code",
   "execution_count": 10,
   "id": "bee4f0c0",
   "metadata": {},
   "outputs": [],
   "source": [
    "import turtle as t\n",
    "pen = t.Turtle()\n",
    "pen.fd(200)\n",
    "pen.lt(90)\n",
    "pen.fd(100)\n",
    "pen.lt(90)\n",
    "pen.fd(200)\n",
    "pen.lt(90)\n",
    "pen.fd(100)\n",
    "\n",
    "pen.penup()\n",
    "pen.goto(-200, 0)\n",
    "pen.pendown()\n",
    "pen.lt(90)\n",
    "pen.bk(200)\n",
    "pen.lt(60)\n",
    "pen.fd(100)\n",
    "pen.rt(60)\n",
    "pen.fd(200)\n",
    "pen.rt(120)\n",
    "pen.fd(100)\n",
    "t.done()"
   ]
  },
  {
   "cell_type": "code",
   "execution_count": null,
   "id": "531dac00",
   "metadata": {},
   "outputs": [],
   "source": []
  },
  {
   "cell_type": "code",
   "execution_count": null,
   "id": "89103a22",
   "metadata": {},
   "outputs": [],
   "source": []
  },
  {
   "cell_type": "code",
   "execution_count": null,
   "id": "247709b1",
   "metadata": {},
   "outputs": [],
   "source": []
  },
  {
   "cell_type": "code",
   "execution_count": null,
   "id": "42cf9163",
   "metadata": {},
   "outputs": [],
   "source": []
  }
 ],
 "metadata": {
  "kernelspec": {
   "display_name": "Python 3 (ipykernel)",
   "language": "python",
   "name": "python3"
  },
  "language_info": {
   "codemirror_mode": {
    "name": "ipython",
    "version": 3
   },
   "file_extension": ".py",
   "mimetype": "text/x-python",
   "name": "python",
   "nbconvert_exporter": "python",
   "pygments_lexer": "ipython3",
   "version": "3.9.13"
  }
 },
 "nbformat": 4,
 "nbformat_minor": 5
}
